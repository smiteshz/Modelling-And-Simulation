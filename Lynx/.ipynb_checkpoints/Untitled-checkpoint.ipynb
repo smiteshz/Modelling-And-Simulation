{
 "cells": [
  {
   "cell_type": "code",
   "execution_count": 1,
   "metadata": {
    "collapsed": true
   },
   "outputs": [],
   "source": [
    "import numpy as np\n",
    "import time\n",
    "# Global Arrays\n",
    "# Available_Cars [cars_object]\n",
    "# Cars Object:\n",
    "# car_index=a,car_capacity=passengers,current_position=[x,y],available=True/False\n",
    "INDEX = 0\n",
    "PINDEX = 0\n",
    "P_CAP = [0.05,0.05,0.4,0.3,0.15,0.05]\n",
    "P_MEM = [0.6,0.25,0.1,0.05]\n",
    "DROP_P = [0.015625,0.015625,0.015625,0.1875,0.015625,0.015625,0.015625,0.1875,0.015625,0.015625,0.015625,0.1875,0.015625,0.015625,0.015625,0.1875,0.015625,0.015625,0.015625,0.015625]\n",
    "Time = 0\n",
    "av_cars = list()\n",
    "use_cars = list()\n",
    "EL = list(list())\n",
    "HEAD = 0\n",
    "TYPE = [\"CAR\",\"PASSENGER\",\"ENVIRONMENT\"]\n",
    "class Car:\n",
    "\tdef __init__(self):\n",
    "\t\tglobal INDEX,P_CAP\n",
    "\t\tself.type = \"CAR\"\n",
    "\t\tself.id=INDEX+1\n",
    "\t\tself.capacity=np.random.choice(np.array([1,2,3,4,5,6]),p=P_CAP)\n",
    "\t\tself.position = np.array([np.random.choice(np.arange(1,21)),np.random.choice(np.arange(1,21))])\n",
    "\t\tself.arrive = 0\n",
    "\t\tself.threshold = 7200\n",
    "\t\tself.available = True\n",
    "\t\tself.occupants = np.array([])\n",
    "\t\tINDEX = INDEX + 1\n",
    "\t\treturn\n",
    "\n",
    "\tdef drive(self,destination,clock=0):\n",
    "\t\twhile(self.position[0]!=destination[0] or self.position[1]!=destination[1]):\n",
    "\t\t\tif(destination[0]<self.position[0]):\n",
    "\t\t\t\tself.position[0]-=1\n",
    "\t\t\telif(destination[0]>self.position[0]):\n",
    "\t\t\t\tself.position[0]+=1\n",
    "\t\t\tif(destination[1]>self.position[1]):\n",
    "\t\t\t\tself.position+=1\n",
    "\t\t\telif(destination[1]<self.position[1]):\n",
    "\t\t\t\tself.position[1]-=1\n",
    "\t\treturn\n",
    "\n",
    "\tdef pickup(passenger):\n",
    "\t\tnp.append(self.occupants,passenger.index)\n",
    "\t\tself.capacity = self.capacity-passenger.member\n",
    "\t\tif(passenger.carpool):\n",
    "\t\t\tself.available = True\n",
    "\t\telse:\n",
    "\t\t\tself.available = False\n",
    "\t\treturn\n",
    "\n",
    "class Passenger:\n",
    "\tdef __init__(self,arrival):\n",
    "\t\tglobal PINDEX \n",
    "\t\tself.type = \"PASSENGER\"\n",
    "\t\tself.id = PINDEX+1\n",
    "\t\tself.member = np.random.choice(np.array([1,2,3,4]),p=P_MEM)\n",
    "\t\tif(self.member == 1):\n",
    "\t\t\tself.carpool = np.random.choice([True,False])\n",
    "\t\telif(self.member == 2):\n",
    "\t\t\tself.carpool = np.random.choice([True,False],p=[0.65,0.35])\n",
    "\t\telif(self.member == 3):\n",
    "\t\t\tself.carpool = np.random.choice([True,False],p=[0.45,0.55])\n",
    "\t\telse:\n",
    "\t\t\tself.carpool = np.random.choice([True,False],p=[0.30,0.70])\n",
    "\t\tself.start_position = np.array([np.random.choice(np.arange(1,21)),np.random.choice(np.arange(1,21))])\n",
    "\t\tself.end_position = np.array([np.random.choice(np.arange(1,21)),np.random.choice(np.arange(1,21),p=DROP_P)])\n",
    "\t\tself.driver = None\n",
    "\t\tself.arrival = arrival\n",
    "\t\tself.threshold = 900+arrival\n",
    "\t\treturn\n",
    "\n",
    "class Environment:\n",
    "    pass\n",
    "\n",
    "def setup():\n",
    "\tglobal Time,av_cars,use_cars,EL\n",
    "\tN_CARS = 2#int(input(\"Enter the number of Cars in the System:\"))\n",
    "\tfor i in range(N_CARS):\n",
    "\t\tav_cars.append(Car())\n",
    "\ttrigger = np.array([1])\n",
    "\twhile(trigger[-1]<7200):\n",
    "\t\ttrigger = np.append(trigger,trigger[-1]+int(np.random.exponential(scale=30)+1))\n",
    "\ttrigger = np.delete(trigger,obj = -1)\n",
    "\ttrigger = np.delete(trigger,obj = 0)\n",
    "\tfor i in trigger:\n",
    "\t\ta = Passenger(i)\n",
    "\t\tEL.append([i,a])\n",
    "\tfor i in av_cars:\n",
    "\t\tpass\n",
    "\t# print(EL)\n",
    "\n",
    "\n",
    "#Events\n",
    "# Spawn Passenger <Dynamic, continously called thru the mainloop>\n",
    "# \tThe passenger will have a spawnpoint at a random location and will also have a destination point sampled\n",
    "# \tSpawn Passenger will call the Reservation Event for which the area around him will be searched for \n",
    "#   any available cars. \n",
    "#\n",
    "#\n",
    "#\n",
    "# Spawn Cars <Spawn x amount of cars at random location on the map>\n",
    "# "
   ]
  },
  {
   "cell_type": "code",
   "execution_count": 2,
   "metadata": {},
   "outputs": [
    {
     "name": "stdout",
     "output_type": "stream",
     "text": [
      "Time =  7201\n",
      "Head =  0\n"
     ]
    }
   ],
   "source": [
    "def run():\n",
    "\tglobal Time,av_cars,use_cars,HEAD,EL\n",
    "\tTime +=1\n",
    "\t\"\"\"For Every every time increment check if we have something in the Future Event List.\n",
    "\tThe format of the Future Event List will be [[Object_Type,Object_ID,Arrival_Time]]\"\"\"\n",
    "\tif(HEAD<len(EL) and Time == EL[HEAD][0]):\n",
    "\t\tprint(\"Event Occurs\")\n",
    "        pass\n",
    "\n",
    "\n",
    "setup()\n",
    "while(True):\n",
    "\tif (Time > 7200):\n",
    "\t\tbreak\n",
    "\trun()\n",
    "print(\"Time = \",Time)\n",
    "print(\"Head = \",HEAD)"
   ]
  },
  {
   "cell_type": "code",
   "execution_count": 3,
   "metadata": {},
   "outputs": [
    {
     "name": "stdout",
     "output_type": "stream",
     "text": [
      "[[25, <__main__.Passenger object at 0x000002C36F826940>], [32, <__main__.Passenger object at 0x000002C36F9141D0>], [49, <__main__.Passenger object at 0x000002C36F914278>], [156, <__main__.Passenger object at 0x000002C36F82D668>], [242, <__main__.Passenger object at 0x000002C36F918588>], [396, <__main__.Passenger object at 0x000002C36F914208>], [444, <__main__.Passenger object at 0x000002C36F914240>], [490, <__main__.Passenger object at 0x000002C36F914160>], [510, <__main__.Passenger object at 0x000002C36F914198>], [529, <__main__.Passenger object at 0x000002C36F9142B0>], [548, <__main__.Passenger object at 0x000002C36F914320>], [582, <__main__.Passenger object at 0x000002C36F914390>], [596, <__main__.Passenger object at 0x000002C36F914358>], [623, <__main__.Passenger object at 0x000002C36F9142E8>], [714, <__main__.Passenger object at 0x000002C36F9143C8>], [718, <__main__.Passenger object at 0x000002C36F914438>], [767, <__main__.Passenger object at 0x000002C36F914588>], [878, <__main__.Passenger object at 0x000002C36F914A90>], [892, <__main__.Passenger object at 0x000002C36F914E80>], [908, <__main__.Passenger object at 0x000002C36F914EB8>], [913, <__main__.Passenger object at 0x000002C36F914FD0>], [962, <__main__.Passenger object at 0x000002C36F914EF0>], [1006, <__main__.Passenger object at 0x000002C36F914F60>], [1076, <__main__.Passenger object at 0x000002C36F914F98>], [1101, <__main__.Passenger object at 0x000002C36F914F28>], [1123, <__main__.Passenger object at 0x000002C36F914CF8>], [1131, <__main__.Passenger object at 0x000002C36F914E48>], [1316, <__main__.Passenger object at 0x000002C36F914D30>], [1332, <__main__.Passenger object at 0x000002C36F914DD8>], [1346, <__main__.Passenger object at 0x000002C36F914E10>], [1384, <__main__.Passenger object at 0x000002C36F914D68>], [1394, <__main__.Passenger object at 0x000002C36F914DA0>], [1408, <__main__.Passenger object at 0x000002C36F914AC8>], [1432, <__main__.Passenger object at 0x000002C36F914BE0>], [1477, <__main__.Passenger object at 0x000002C36F914C88>], [1487, <__main__.Passenger object at 0x000002C36F914CC0>], [1514, <__main__.Passenger object at 0x000002C36F914C18>], [1518, <__main__.Passenger object at 0x000002C36F914C50>], [1529, <__main__.Passenger object at 0x000002C36F914B00>], [1551, <__main__.Passenger object at 0x000002C36F914B70>], [1552, <__main__.Passenger object at 0x000002C36F914BA8>], [1580, <__main__.Passenger object at 0x000002C36F914B38>], [1634, <__main__.Passenger object at 0x000002C36F9145C0>], [1666, <__main__.Passenger object at 0x000002C36F9145F8>], [1667, <__main__.Passenger object at 0x000002C36F914780>], [1699, <__main__.Passenger object at 0x000002C36F9147F0>], [1716, <__main__.Passenger object at 0x000002C36F914828>], [1721, <__main__.Passenger object at 0x000002C36F9147B8>], [1743, <__main__.Passenger object at 0x000002C36F914630>], [1809, <__main__.Passenger object at 0x000002C36F9146D8>], [1833, <__main__.Passenger object at 0x000002C36F914710>], [2006, <__main__.Passenger object at 0x000002C36F914668>], [2007, <__main__.Passenger object at 0x000002C36F9146A0>], [2023, <__main__.Passenger object at 0x000002C36F914860>], [2051, <__main__.Passenger object at 0x000002C36F9149B0>], [2052, <__main__.Passenger object at 0x000002C36F914A20>], [2076, <__main__.Passenger object at 0x000002C36F914A58>], [2106, <__main__.Passenger object at 0x000002C36F9149E8>], [2108, <__main__.Passenger object at 0x000002C36F914898>], [2113, <__main__.Passenger object at 0x000002C36F914940>], [2162, <__main__.Passenger object at 0x000002C36F914978>], [2252, <__main__.Passenger object at 0x000002C36F9148D0>], [2253, <__main__.Passenger object at 0x000002C36F914908>], [2275, <__main__.Passenger object at 0x000002C36F914470>], [2350, <__main__.Passenger object at 0x000002C36F914550>], [2353, <__main__.Passenger object at 0x000002C36F9144A8>], [2525, <__main__.Passenger object at 0x000002C36F9144E0>], [2555, <__main__.Passenger object at 0x000002C36F914518>], [2583, <__main__.Passenger object at 0x000002C36F910128>], [2596, <__main__.Passenger object at 0x000002C36F910278>], [2600, <__main__.Passenger object at 0x000002C36F910160>], [2649, <__main__.Passenger object at 0x000002C36F910208>], [2683, <__main__.Passenger object at 0x000002C36F910240>], [2686, <__main__.Passenger object at 0x000002C36F910198>], [2745, <__main__.Passenger object at 0x000002C36F9101D0>], [2801, <__main__.Passenger object at 0x000002C36F9100B8>], [2837, <__main__.Passenger object at 0x000002C36F9100F0>], [2844, <__main__.Passenger object at 0x000002C36F910048>], [2869, <__main__.Passenger object at 0x000002C36F910080>], [2904, <__main__.Passenger object at 0x000002C36F9102E8>], [2949, <__main__.Passenger object at 0x000002C36F910630>], [2973, <__main__.Passenger object at 0x000002C36F910898>], [3080, <__main__.Passenger object at 0x000002C36F9109E8>], [3095, <__main__.Passenger object at 0x000002C36F9108D0>], [3096, <__main__.Passenger object at 0x000002C36F910978>], [3145, <__main__.Passenger object at 0x000002C36F9109B0>], [3147, <__main__.Passenger object at 0x000002C36F910908>], [3155, <__main__.Passenger object at 0x000002C36F910940>], [3203, <__main__.Passenger object at 0x000002C36F910668>], [3224, <__main__.Passenger object at 0x000002C36F910780>], [3295, <__main__.Passenger object at 0x000002C36F910828>], [3311, <__main__.Passenger object at 0x000002C36F910860>], [3361, <__main__.Passenger object at 0x000002C36F9107B8>], [3364, <__main__.Passenger object at 0x000002C36F9107F0>], [3375, <__main__.Passenger object at 0x000002C36F9106A0>], [3410, <__main__.Passenger object at 0x000002C36F910710>], [3506, <__main__.Passenger object at 0x000002C36F910748>], [3509, <__main__.Passenger object at 0x000002C36F9106D8>], [3534, <__main__.Passenger object at 0x000002C36F910550>], [3596, <__main__.Passenger object at 0x000002C36F9105F8>], [3610, <__main__.Passenger object at 0x000002C36F910588>], [3655, <__main__.Passenger object at 0x000002C36F9105C0>], [3669, <__main__.Passenger object at 0x000002C36F910320>], [3686, <__main__.Passenger object at 0x000002C36F910438>], [3694, <__main__.Passenger object at 0x000002C36F9104E0>], [3751, <__main__.Passenger object at 0x000002C36F910518>], [3770, <__main__.Passenger object at 0x000002C36F910470>], [3778, <__main__.Passenger object at 0x000002C36F9104A8>], [3806, <__main__.Passenger object at 0x000002C36F910358>], [3833, <__main__.Passenger object at 0x000002C36F9103C8>], [3852, <__main__.Passenger object at 0x000002C36F910400>], [3859, <__main__.Passenger object at 0x000002C36F910390>], [3860, <__main__.Passenger object at 0x000002C36F910A20>], [3873, <__main__.Passenger object at 0x000002C36F910A58>], [3944, <__main__.Passenger object at 0x000002C36F910B00>], [3949, <__main__.Passenger object at 0x000002C36F910B38>], [4006, <__main__.Passenger object at 0x000002C36F910BE0>], [4012, <__main__.Passenger object at 0x000002C36F910C18>], [4024, <__main__.Passenger object at 0x000002C36F910C50>], [4032, <__main__.Passenger object at 0x000002C36F910C88>], [4037, <__main__.Passenger object at 0x000002C36F910B70>], [4050, <__main__.Passenger object at 0x000002C36F910BA8>], [4054, <__main__.Passenger object at 0x000002C36F910CC0>], [4112, <__main__.Passenger object at 0x000002C36F910D68>], [4126, <__main__.Passenger object at 0x000002C36F910E10>], [4195, <__main__.Passenger object at 0x000002C36F910E48>], [4238, <__main__.Passenger object at 0x000002C36F910DA0>], [4278, <__main__.Passenger object at 0x000002C36F910DD8>], [4305, <__main__.Passenger object at 0x000002C36F910CF8>], [4311, <__main__.Passenger object at 0x000002C36F910D30>], [4312, <__main__.Passenger object at 0x000002C36F910E80>], [4317, <__main__.Passenger object at 0x000002C36F910F28>], [4327, <__main__.Passenger object at 0x000002C36F910FD0>], [4378, <__main__.Passenger object at 0x000002C36F910F60>], [4401, <__main__.Passenger object at 0x000002C36F910F98>], [4406, <__main__.Passenger object at 0x000002C36F910EB8>], [4411, <__main__.Passenger object at 0x000002C36F910EF0>], [4452, <__main__.Passenger object at 0x000002C36F910A90>], [4495, <__main__.Passenger object at 0x000002C36F910AC8>], [4497, <__main__.Passenger object at 0x000002C36F8E8518>], [4517, <__main__.Passenger object at 0x000002C36F8E88D0>], [4561, <__main__.Passenger object at 0x000002C36F8E8908>], [4570, <__main__.Passenger object at 0x000002C36F8E8898>], [4572, <__main__.Passenger object at 0x000002C36F8E8860>], [4588, <__main__.Passenger object at 0x000002C36F8E8E48>], [4611, <__main__.Passenger object at 0x000002C36F8E8DD8>], [4678, <__main__.Passenger object at 0x000002C36F8E8BA8>], [4681, <__main__.Passenger object at 0x000002C36F8E84A8>], [4710, <__main__.Passenger object at 0x000002C36F8E8588>], [4737, <__main__.Passenger object at 0x000002C36F8E8438>], [4765, <__main__.Passenger object at 0x000002C36F8E8390>], [4802, <__main__.Passenger object at 0x000002C36F8E83C8>], [4810, <__main__.Passenger object at 0x000002C36F8E84E0>], [4827, <__main__.Passenger object at 0x000002C370BB34A8>], [4872, <__main__.Passenger object at 0x000002C36F91FB70>], [4875, <__main__.Passenger object at 0x000002C36F91F588>], [4886, <__main__.Passenger object at 0x000002C36F902048>], [4890, <__main__.Passenger object at 0x000002C36F9021D0>], [4959, <__main__.Passenger object at 0x000002C36F902080>], [4966, <__main__.Passenger object at 0x000002C36F902160>], [4996, <__main__.Passenger object at 0x000002C36F902198>], [5018, <__main__.Passenger object at 0x000002C36F9020B8>], [5057, <__main__.Passenger object at 0x000002C36F9020F0>], [5082, <__main__.Passenger object at 0x000002C36F902128>], [5172, <__main__.Passenger object at 0x000002C36F902208>], [5174, <__main__.Passenger object at 0x000002C36F902278>], [5187, <__main__.Passenger object at 0x000002C36F902358>], [5243, <__main__.Passenger object at 0x000002C36F902390>], [5274, <__main__.Passenger object at 0x000002C36F9023C8>], [5285, <__main__.Passenger object at 0x000002C36F902320>], [5332, <__main__.Passenger object at 0x000002C36F9022B0>], [5333, <__main__.Passenger object at 0x000002C36F9022E8>], [5366, <__main__.Passenger object at 0x000002C36F902240>], [5370, <__main__.Passenger object at 0x000002C36F902400>], [5393, <__main__.Passenger object at 0x000002C36F902470>], [5427, <__main__.Passenger object at 0x000002C36F902550>], [5564, <__main__.Passenger object at 0x000002C36F902588>], [5571, <__main__.Passenger object at 0x000002C36F902518>], [5599, <__main__.Passenger object at 0x000002C36F9024A8>], [5605, <__main__.Passenger object at 0x000002C36F9024E0>], [5621, <__main__.Passenger object at 0x000002C36F902438>], [5622, <__main__.Passenger object at 0x000002C36F9025C0>], [5654, <__main__.Passenger object at 0x000002C36F902668>], [5698, <__main__.Passenger object at 0x000002C36F9026D8>], [5701, <__main__.Passenger object at 0x000002C36F902748>], [5716, <__main__.Passenger object at 0x000002C36F902710>], [5764, <__main__.Passenger object at 0x000002C36F9026A0>], [5813, <__main__.Passenger object at 0x000002C36F902780>], [5819, <__main__.Passenger object at 0x000002C36F9027B8>], [5837, <__main__.Passenger object at 0x000002C36F902860>], [5873, <__main__.Passenger object at 0x000002C36F902898>], [5890, <__main__.Passenger object at 0x000002C36F9028D0>], [5939, <__main__.Passenger object at 0x000002C36F9027F0>], [5959, <__main__.Passenger object at 0x000002C36F902828>], [6016, <__main__.Passenger object at 0x000002C36F902630>], [6135, <__main__.Passenger object at 0x000002C36F82D630>], [6185, <__main__.Passenger object at 0x000002C36F4D6358>], [6283, <__main__.Passenger object at 0x000002C36F58F898>], [6379, <__main__.Passenger object at 0x000002C36F9183C8>], [6402, <__main__.Passenger object at 0x000002C36F9025F8>], [6431, <__main__.Passenger object at 0x000002C36F902908>], [6501, <__main__.Passenger object at 0x000002C36F9029B0>], [6508, <__main__.Passenger object at 0x000002C36F902978>], [6511, <__main__.Passenger object at 0x000002C36F902940>], [6541, <__main__.Passenger object at 0x000002C36F9029E8>], [6566, <__main__.Passenger object at 0x000002C36F902AC8>], [6577, <__main__.Passenger object at 0x000002C36F902D68>], [6587, <__main__.Passenger object at 0x000002C370BBBF60>], [6599, <__main__.Passenger object at 0x000002C36F9681D0>], [6621, <__main__.Passenger object at 0x000002C370BC4BA8>], [6653, <__main__.Passenger object at 0x000002C370BC44E0>], [6662, <__main__.Passenger object at 0x000002C370C2D128>], [6683, <__main__.Passenger object at 0x000002C370C38320>], [6688, <__main__.Passenger object at 0x000002C370C38358>], [6696, <__main__.Passenger object at 0x000002C370C38390>], [6704, <__main__.Passenger object at 0x000002C370C383C8>], [6743, <__main__.Passenger object at 0x000002C370C38400>], [6761, <__main__.Passenger object at 0x000002C370C38438>], [6770, <__main__.Passenger object at 0x000002C370C38470>], [6818, <__main__.Passenger object at 0x000002C370C384A8>], [6847, <__main__.Passenger object at 0x000002C370C384E0>], [6852, <__main__.Passenger object at 0x000002C370C38518>], [6863, <__main__.Passenger object at 0x000002C370C38550>], [6881, <__main__.Passenger object at 0x000002C370C38588>], [6896, <__main__.Passenger object at 0x000002C370C385C0>], [6930, <__main__.Passenger object at 0x000002C370C385F8>], [6934, <__main__.Passenger object at 0x000002C370C38630>], [6997, <__main__.Passenger object at 0x000002C370C38668>], [7020, <__main__.Passenger object at 0x000002C370C386A0>], [7025, <__main__.Passenger object at 0x000002C370C386D8>], [7028, <__main__.Passenger object at 0x000002C370C38710>], [7056, <__main__.Passenger object at 0x000002C370C38748>], [7059, <__main__.Passenger object at 0x000002C370C38780>], [7123, <__main__.Passenger object at 0x000002C370C387B8>], [7164, <__main__.Passenger object at 0x000002C370C387F0>]]\n"
     ]
    }
   ],
   "source": []
  },
  {
   "cell_type": "code",
   "execution_count": null,
   "metadata": {
    "collapsed": true
   },
   "outputs": [],
   "source": []
  }
 ],
 "metadata": {
  "kernelspec": {
   "display_name": "Python 3",
   "language": "python",
   "name": "python3"
  },
  "language_info": {
   "codemirror_mode": {
    "name": "ipython",
    "version": 3
   },
   "file_extension": ".py",
   "mimetype": "text/x-python",
   "name": "python",
   "nbconvert_exporter": "python",
   "pygments_lexer": "ipython3",
   "version": "3.6.1"
  }
 },
 "nbformat": 4,
 "nbformat_minor": 2
}
